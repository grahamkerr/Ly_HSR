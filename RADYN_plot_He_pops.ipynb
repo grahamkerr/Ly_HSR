{
 "cells": [
  {
   "cell_type": "code",
   "execution_count": null,
   "metadata": {},
   "outputs": [],
   "source": [
    "##\n",
    "## Import some modules\n",
    "##\n",
    "\n",
    "import sys\n",
    "sys.path.insert(0,'/Users/gskerr1/Documents/Research/Python_Programs/radynpy/')\n",
    "import radynpy \n",
    "from radynpy.utils import LineProfiles\n",
    "\n",
    "import numpy as np\n",
    "import matplotlib as mpl\n",
    "import matplotlib.pyplot as plt\n",
    "from matplotlib.ticker import ScalarFormatter, FormatStrFormatter\n",
    "from matplotlib.ticker import LogLocator\n",
    "from matplotlib import ticker\n",
    "import matplotlib.colorbar as cb\n",
    "import pandas as pd\n",
    "\n",
    "import cmocean\n",
    "import colorcet as ccet\n",
    "import palettable as pal \n",
    "import plotly.express as px"
   ]
  }
 ],
 "metadata": {
  "kernelspec": {
   "display_name": "py38_solar_sunpy",
   "language": "python",
   "name": "py38_solar_sunpy"
  },
  "language_info": {
   "codemirror_mode": {
    "name": "ipython",
    "version": 3
   },
   "file_extension": ".py",
   "mimetype": "text/x-python",
   "name": "python",
   "nbconvert_exporter": "python",
   "pygments_lexer": "ipython3",
   "version": "3.8.5"
  }
 },
 "nbformat": 4,
 "nbformat_minor": 4
}
