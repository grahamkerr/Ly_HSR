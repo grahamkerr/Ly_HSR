{
 "cells": [
  {
   "cell_type": "markdown",
   "metadata": {},
   "source": [
    "### Graham Kerr\n",
    "#### graham.s.kerr@NASA.gov; kerrg@cua.edu\n",
    "\n",
    "<H1 font size=\"+3\" style=\"color:red\">\n",
    "Ly_HSR Project<br>\n",
    "-- Plot He Pops\n",
    "</H1>\n",
    "\n",
    "<b>This notebook will load a RADYN simulation, and plot the He ionisation fractions, and the He population levels.</b> <br>\n",
    " > - This is to start investigating if the opacity increases in some simulations before the LyC emissivity increases, resulting in transient dimming of the continuum near 700-911A.\n",
    " > - Excited states of He II have continua heads near 911A, so increased opacity would absorb photons <911A. Is there an increase in the populations of those levels at the time we see dimming of the continuum? \n",
    "\n"
   ]
  },
  {
   "cell_type": "markdown",
   "metadata": {},
   "source": [
    "***Import Modules***"
   ]
  },
  {
   "cell_type": "code",
   "execution_count": null,
   "metadata": {},
   "outputs": [],
   "source": [
    "##\n",
    "## Import some modules\n",
    "##\n",
    "\n",
    "import sys\n",
    "sys.path.insert(0,'/Users/gskerr1/Documents/Research/Python_Programs/radynpy/')\n",
    "import radynpy \n",
    "from radynpy.utils import RadynMovie as RM\n",
    "\n",
    "import numpy as np\n",
    "import matplotlib as mpl\n",
    "import matplotlib.pyplot as plt\n",
    "from matplotlib.ticker import ScalarFormatter, FormatStrFormatter\n",
    "from matplotlib.ticker import LogLocator\n",
    "from matplotlib import ticker\n",
    "import matplotlib.colorbar as cb\n",
    "import pandas as pd\n",
    "\n",
    "import cmocean\n",
    "import colorcet as ccet\n",
    "import palettable as pal \n",
    "import plotly.express as px\n",
    "from plotly.subplots import make_subplots\n",
    "import plotly.graph_objects as go"
   ]
  },
  {
   "cell_type": "markdown",
   "metadata": {},
   "source": [
    "***Set up plot properties***"
   ]
  },
  {
   "cell_type": "code",
   "execution_count": null,
   "metadata": {},
   "outputs": [],
   "source": [
    "##\n",
    "## Plot properties (these are just personal preference)\n",
    "##\n",
    "\n",
    "#Avenir LT Std\n",
    "font = {'family': 'Avenir LT Std',\n",
    "        'color':  'black',\n",
    "        'weight': 'medium',\n",
    "        'size': 22,\n",
    "        }\n",
    "plot_params = {'ytick.direction': 'in', \n",
    "               'xtick.direction': 'in', \n",
    "               'xtick.minor.visible': True,\n",
    "               'ytick.minor.visible': True,\n",
    "               'xtick.major.size': 10, 'xtick.minor.size': 5,\n",
    "               'ytick.major.size': 10, 'ytick.minor.size': 5,\n",
    "               'ytick.right': True,\n",
    "               'xtick.top': True,\n",
    "               'ytick.major.width': 1.5,\n",
    "               'xtick.major.width': 1.5,\n",
    "               'ytick.minor.width': 1.5,\n",
    "               'xtick.minor.width': 1.5,\n",
    "               'axes.linewidth': 1.5,\n",
    "               'axes.spines.top': True,\n",
    "               'axes.spines.bottom': True,\n",
    "               'axes.spines.left': True,\n",
    "               'axes.spines.right': True,\n",
    "               'axes.titlepad' : 18 }\n",
    "\n",
    "plot_lg_params = {'legend.frameon': False}\n",
    "#plt.rcParams.update({'font.size': font['size'], 'font.family':font['family'], 'font.weight':font['weight'], 'font.color':font['color']})\n",
    "\n",
    "plt.rcParams.update({'font.size':font['size'], 'font.family':font['family'], 'font.weight':font['weight']})\n",
    "plt.rcParams.update({'ytick.direction': plot_params['ytick.direction'],\n",
    "                     'xtick.direction': plot_params['xtick.direction'],\n",
    "                     'xtick.minor.visible': plot_params['xtick.minor.visible'],\n",
    "                     'ytick.minor.visible': plot_params['ytick.minor.visible'],\n",
    "                     'ytick.major.size':  plot_params['ytick.major.size'], \n",
    "                     'ytick.minor.size':  plot_params['ytick.minor.size'],\n",
    "                     'xtick.major.size':  plot_params['xtick.major.size'],                                \n",
    "                     'xtick.minor.size':  plot_params['xtick.minor.size'],\n",
    "                     'ytick.right': plot_params['ytick.right'],\n",
    "                     'xtick.top': plot_params['xtick.top'],\n",
    "                     'ytick.major.width': plot_params['ytick.major.width'],\n",
    "                     'xtick.major.width': plot_params['xtick.major.width'],\n",
    "                     'ytick.minor.width': plot_params['ytick.minor.width'],\n",
    "                     'xtick.minor.width': plot_params['xtick.minor.width'],                    \n",
    "                     'axes.linewidth': plot_params['axes.linewidth'],\n",
    "                     'axes.spines.top' : plot_params['axes.spines.top'],\n",
    "                     'axes.spines.bottom' : plot_params['axes.spines.bottom'],\n",
    "                     'axes.spines.left' : plot_params['axes.spines.left'],\n",
    "                     'axes.spines.right' : plot_params['axes.spines.right'],\n",
    "                     'axes.titlepad' : plot_params['axes.titlepad'],\n",
    "                    })\n",
    "\n",
    "plt.rcParams.update({'legend.frameon': plot_lg_params['legend.frameon']})\n",
    "\n",
    "mpl.mathtext.SHRINK_FACTOR = 0.6\n",
    "mpl.mathtext.GROW_FACTOR = 1 / 0.6\n",
    "\n",
    "\n",
    "\n",
    "\n",
    "\n",
    "template = dict(\n",
    "        layout = go.Layout(font = dict(family = \"Rockwell\", size = 16),\n",
    "                           title_font = dict(family = \"Rockwell\", size = 20), \n",
    "                           plot_bgcolor = 'white',\n",
    "                           paper_bgcolor = 'white',\n",
    "                           xaxis = dict(\n",
    "                                showexponent = 'all',\n",
    "                                exponentformat = 'e',\n",
    "                                tickangle = 0,\n",
    "                                linewidth = 3,\n",
    "                                showgrid = True,\n",
    "                            ),\n",
    "                            yaxis = dict(\n",
    "                          showexponent = 'all',\n",
    "                          exponentformat = 'e',\n",
    "                                linewidth = 3,\n",
    "                                showgrid = True,\n",
    "                                anchor = 'free',\n",
    "                                position = 0,\n",
    "                                domain = [0.0,1]\n",
    "                            ),\n",
    "                            coloraxis_colorbar = dict(\n",
    "                                thickness = 15,\n",
    "                                tickformat = '0.2f',\n",
    "                                ticks = 'outside',\n",
    "                                titleside = 'right'\n",
    "                            )\n",
    "                            ))"
   ]
  },
  {
   "cell_type": "markdown",
   "metadata": {},
   "source": [
    "***Load the RADYN Simulation(s) of interest***"
   ]
  },
  {
   "cell_type": "code",
   "execution_count": null,
   "metadata": {},
   "outputs": [],
   "source": [
    "##\n",
    "## Load the simulations\n",
    "##\n",
    "dir1 = '/Users/gskerr1/Documents/Research/FCHROMA_Grid/'\n",
    "cdf1 = radynpy.cdf.LazyRadynData(dir1+'radyn_out.val3c_d8_1.0e11_t20s_15kev_fp')\n",
    "\n",
    "\n"
   ]
  },
  {
   "cell_type": "markdown",
   "metadata": {},
   "source": [
    "***Extract the variables that we will need***"
   ]
  },
  {
   "cell_type": "code",
   "execution_count": null,
   "metadata": {},
   "outputs": [],
   "source": [
    "## \n",
    "## Load the variables of interest\n",
    "##\n",
    "\n",
    "cdf1.load_var('z1')\n",
    "cdf1.load_var('n1')\n",
    "cdf1.load_var('tg1')\n",
    "cdf1.load_var('time')\n",
    "cdf1.load_var('irad')\n",
    "cdf1.load_var('jrad')\n",
    "cdf1.load_var('ielrad')\n",
    "cdf1.load_var('label')\n",
    "cdf1.load_var('ion')\n",
    "cdf1.load_var('cont')\n",
    "cdf1.load_var('alamb')"
   ]
  },
  {
   "cell_type": "markdown",
   "metadata": {},
   "source": [
    "***What are the levels we want to plot?***<br>\n",
    "We search below for which transitions are free-bound from He II -> He III.<br>\n",
    "> cont -- is '1' for a free-bound transition, '0' for a bound-bound transition<br>\n",
    "> irad -- the lower level of the transition. It runs from level '1' not '0', so need to add one to the level number.<br>\n",
    "\n",
    "We then add those transitions to a list, and print the results"
   ]
  },
  {
   "cell_type": "code",
   "execution_count": null,
   "metadata": {},
   "outputs": [],
   "source": [
    "iel = 3 #Helium\n",
    "ion = 2 #He II\n",
    "levs = (np.where(cdf1.ion[:,iel-1] == ion))[0] #indexing starts at zero so element #iel is indexed as iel-1\n",
    "nlevs = len(levs) #number of levels \n",
    "rind = []\n",
    "for i in range(nlevs):\n",
    "    rind.append(np.where((cdf1.ielrad == iel) & (cdf1.irad == levs[i]+1) & (cdf1.cont == 1))[0][0])\n",
    "\n",
    "## Print the wavelengths associated with the b-f transitions of He II    \n",
    "print(\"Number of transitions = \",nlevs)\n",
    "print(\"Level #\", levs)\n",
    "print(\"Wavelengths = \",cdf1.alamb[rind],'A')\n"
   ]
  },
  {
   "cell_type": "markdown",
   "metadata": {},
   "source": [
    "***Makes some movies of the levels we are interested in***<br>"
   ]
  },
  {
   "cell_type": "code",
   "execution_count": null,
   "metadata": {},
   "outputs": [],
   "source": [
    "t1 = 0\n",
    "t2 = 200\n",
    "\n",
    "\n",
    "dfout = RM.rmovie(cdf1.z1[t1:t2]/1e8, cdf1.n1[t1:t2,:,levs[0],iel-1], time = cdf1.time[t1:t2], \n",
    "                      xlog = False, ylog = True, \n",
    "                      xtitle = 'Height [Mm]', \n",
    "                      ytitle = 'Population [cm<sup>-3</sup>]', \n",
    "                      title = cdf1.label[levs[0],iel-1],\n",
    "                      savefig= False,figname='radynfig.html')"
   ]
  },
  {
   "cell_type": "code",
   "execution_count": null,
   "metadata": {},
   "outputs": [],
   "source": [
    "t1 = 0\n",
    "t2 = 200\n",
    "dfout = RM.rmovie(cdf1.z1[t1:t2]/1e8, cdf1.n1[t1:t2,:,levs[1],iel-1], time = cdf1.time[t1:t2], \n",
    "                      xlog = False, ylog = True, \n",
    "                      xtitle = 'Height [Mm]', \n",
    "                      ytitle = 'Population [cm<sup>-3</sup>]', \n",
    "                      title = cdf1.label[levs[1],iel-1],\n",
    "                      savefig= False,figname='radynfig.html')"
   ]
  },
  {
   "cell_type": "code",
   "execution_count": null,
   "metadata": {},
   "outputs": [],
   "source": [
    "t1 = 0\n",
    "t2 = 200\n",
    "dfout = RM.rmovie(cdf1.z1[t1:t2]/1e8, cdf1.n1[t1:t2,:,levs[2],iel-1], time = cdf1.time[t1:t2], \n",
    "                      xlog = False, ylog = True, \n",
    "                      xtitle = 'Height [Mm]', \n",
    "                      ytitle = 'Population [cm<sup>-3</sup>]', \n",
    "                      title = cdf1.label[levs[2],iel-1],\n",
    "                      savefig= False,figname='radynfig.html')"
   ]
  },
  {
   "cell_type": "markdown",
   "metadata": {},
   "source": [
    "***The following cells are basically what RadynMovie.py does behind the scenes but you can plot all three lines on the same figure*** <br>\n",
    "> - This is pretty memory intensive though"
   ]
  },
  {
   "cell_type": "code",
   "execution_count": null,
   "metadata": {},
   "outputs": [],
   "source": [
    "pop1 = 'He II gr'\n",
    "pop2 = 'He II ex1'\n",
    "pop3 = 'He II ex2'\n",
    "height = 'Height [Mm]'\n",
    "time = 'Time [s]'\n",
    "timeind = 'Time index'\n",
    "df_list = []\n",
    "for i in range(len(cdf1.time)):\n",
    "    data = {pop1:cdf1.n1[i,:,levs[0],iel-1],\n",
    "        pop2:cdf1.n1[i,:,levs[1],iel-1],\n",
    "        pop3:cdf1.n1[i,:,levs[2],iel-1],\n",
    "        height: cdf1.z1[i,:]/1e8,\n",
    "        time: cdf1.time[i],\n",
    "        timeind: i\n",
    "           }\n",
    "    df_list.append(pd.DataFrame(data))\n",
    "    \n",
    "df = pd.concat(df_list)"
   ]
  },
  {
   "cell_type": "code",
   "execution_count": null,
   "metadata": {},
   "outputs": [],
   "source": [
    "xtitle = 'Height [Mm]'\n",
    "ytitle_gr = ['He II gr pop [cm<sup>-3</sup>]']\n",
    "\n",
    "h1 = 700\n",
    "w1 = 700\n",
    "\n",
    "fig1 = px.line(df,\n",
    "               x = df['Height [Mm]']/1e8, y = df.columns[:3],\n",
    "#                animation_group = 'Time [s]',\n",
    "               animation_frame = 'Time [s]',\n",
    "               labels = dict(x = xtitle, y = ytitle_gr),\n",
    "              log_x = False,\n",
    "              log_y = True,\n",
    "              template = template)\n",
    "\n",
    "fig1.show()\n"
   ]
  },
  {
   "cell_type": "code",
   "execution_count": null,
   "metadata": {},
   "outputs": [],
   "source": [
    "dfout = RM.rmovie(cdf1.z1/1e8, cdf1.tg1[:,:], time = cdf1.time, \n",
    "                      xlog = False, ylog = True, \n",
    "                      xtitle = 'Height [Mm]', \n",
    "                      ytitle = 'Temperature [K]', \n",
    "                      title = '3F10, d5, Ec15, FCHROMA',\n",
    "                      savefig= True,figname='RadynMovie_ex_Tempr.html')"
   ]
  },
  {
   "cell_type": "code",
   "execution_count": null,
   "metadata": {},
   "outputs": [],
   "source": []
  }
 ],
 "metadata": {
  "kernelspec": {
   "display_name": "py38_solar_sunpy",
   "language": "python",
   "name": "py38_solar_sunpy"
  },
  "language_info": {
   "codemirror_mode": {
    "name": "ipython",
    "version": 3
   },
   "file_extension": ".py",
   "mimetype": "text/x-python",
   "name": "python",
   "nbconvert_exporter": "python",
   "pygments_lexer": "ipython3",
   "version": "3.8.5"
  }
 },
 "nbformat": 4,
 "nbformat_minor": 4
}
